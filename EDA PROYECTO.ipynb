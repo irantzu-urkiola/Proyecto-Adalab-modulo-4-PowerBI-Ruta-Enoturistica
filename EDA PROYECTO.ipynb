{
 "cells": [
  {
   "cell_type": "code",
   "execution_count": null,
   "id": "71a3cee5",
   "metadata": {},
   "outputs": [],
   "source": [
    "# Import necessary libraries\n",
    "import numpy as np\n",
    "import pandas as pd"
   ]
  },
  {
   "cell_type": "code",
   "execution_count": null,
   "id": "d0e407b9",
   "metadata": {},
   "outputs": [],
   "source": [
    "# Cargar los datos de los archivos CSV y Excel\n",
    "df_vinos_caros = pd.read_csv('vinos_caros.csv')\n",
    "df_vinos_asequibles = pd.read_excel('vinos_asequibles.xlsx')\n",
    "df_productores = pd.read_csv('Mayores_productores_vino_mundiales.csv')"
   ]
  },
  {
   "cell_type": "code",
   "execution_count": 3,
   "id": "255593c5",
   "metadata": {},
   "outputs": [],
   "source": [
    "# Creo una función para obtener información de los DF\n",
    "\n",
    "def exploracion_inicial(df, titulo_df):\n",
    "    if not df.empty:\n",
    "        print(f\"Tenemos {df.shape[0]} filas y {df.shape[1]} columnas\")\n",
    "        print(\"-\"*60)\n",
    "        print(f\"A continuación se presenta la exploración inicial de : \\n\\n {titulo_df} \\n\")\n",
    "        print(\"-\"*60)\n",
    "        print(\"Primeras 5 filas:\")\n",
    "        print(\"-\"*60)\n",
    "        display(df.head())\n",
    "        print(\"-\"*60)   \n",
    "        print(\"Otras 5 filas aleatorias\")\n",
    "        print(\"-\"*60)\n",
    "        display(df.sample(5))\n",
    "        print(\"-\"*60)\n",
    "        print(\"Exploración de duplicados:\")\n",
    "        print(f\"Existen {df.duplicated().sum()} duplicados\")\n",
    "        print(\"-\"*60)\n",
    "        nulos_por_columna = df.isnull().sum() \n",
    "        total_nulos = nulos_por_columna.sum()\n",
    "        print(\"Revisión de nulos:\")\n",
    "        if total_nulos == 0:\n",
    "            print(\" No se encontraron valores nulos en el DataFrame.\")\n",
    "        else:\n",
    "            print(f\"Se encontraron {total_nulos} valores nulos en total. El desglose por columna es:\")\n",
    "            print(nulos_por_columna[nulos_por_columna > 0])\n",
    "        print(\"-\"*60)\n",
    "        print(f\"Info sobre las columas de {titulo_df}:\\n\")\n",
    "        print(\"-\"*60)\n",
    "        df.info()\n",
    "        print(\"-\"*60)\n",
    "        print(\"Las medias estadísticas por fila son las siguientes:\")\n",
    "        display(df.describe().T)\n",
    "        print(\"-\"*60)\n",
    "    else:\n",
    "        print(\"El dataframe está vacío\")    \n"
   ]
  },
  {
   "cell_type": "code",
   "execution_count": null,
   "id": "bf09947e",
   "metadata": {},
   "outputs": [
    {
     "name": "stdout",
     "output_type": "stream",
     "text": [
      "Tenemos 7500 filas y 11 columnas\n",
      "------------------------------------------------------------\n",
      "A continuación se presenta la exploración inicial de : \n",
      "\n",
      " Vinos Caros \n",
      "\n",
      "------------------------------------------------------------\n",
      "Primeras 5 filas:\n",
      "------------------------------------------------------------\n"
     ]
    },
    {
     "data": {
      "application/vnd.microsoft.datawrangler.viewer.v0+json": {
       "columns": [
        {
         "name": "index",
         "rawType": "int64",
         "type": "integer"
        },
        {
         "name": "winery",
         "rawType": "object",
         "type": "string"
        },
        {
         "name": "wine",
         "rawType": "object",
         "type": "string"
        },
        {
         "name": "year",
         "rawType": "object",
         "type": "string"
        },
        {
         "name": "rating",
         "rawType": "float64",
         "type": "float"
        },
        {
         "name": "num_reviews",
         "rawType": "int64",
         "type": "integer"
        },
        {
         "name": "country",
         "rawType": "object",
         "type": "string"
        },
        {
         "name": "region",
         "rawType": "object",
         "type": "string"
        },
        {
         "name": "price",
         "rawType": "float64",
         "type": "float"
        },
        {
         "name": "type",
         "rawType": "object",
         "type": "string"
        },
        {
         "name": "body",
         "rawType": "float64",
         "type": "float"
        },
        {
         "name": "acidity",
         "rawType": "float64",
         "type": "float"
        }
       ],
       "ref": "814c18ae-0e61-42e5-a378-30d2c0a316dc",
       "rows": [
        [
         "0",
         "Teso La Monja",
         "Tinto",
         "2013",
         "4.9",
         "58",
         "Espana",
         "Toro",
         "995.0",
         "Toro Red",
         "5.0",
         "3.0"
        ],
        [
         "1",
         "Artadi",
         "Vina El Pison",
         "2018",
         "4.9",
         "31",
         "Espana",
         "Vino de Espana",
         "313.5",
         "Tempranillo",
         "4.0",
         "2.0"
        ],
        [
         "2",
         "Vega Sicilia",
         "Unico",
         "2009",
         "4.8",
         "1793",
         "Espana",
         "Ribera del Duero",
         "324.95",
         "Ribera Del Duero Red",
         "5.0",
         "3.0"
        ],
        [
         "3",
         "Vega Sicilia",
         "Unico",
         "1999",
         "4.8",
         "1705",
         "Espana",
         "Ribera del Duero",
         "692.96",
         "Ribera Del Duero Red",
         "5.0",
         "3.0"
        ],
        [
         "4",
         "Vega Sicilia",
         "Unico",
         "1996",
         "4.8",
         "1309",
         "Espana",
         "Ribera del Duero",
         "778.06",
         "Ribera Del Duero Red",
         "5.0",
         "3.0"
        ]
       ],
       "shape": {
        "columns": 11,
        "rows": 5
       }
      },
      "text/html": [
       "<div>\n",
       "<style scoped>\n",
       "    .dataframe tbody tr th:only-of-type {\n",
       "        vertical-align: middle;\n",
       "    }\n",
       "\n",
       "    .dataframe tbody tr th {\n",
       "        vertical-align: top;\n",
       "    }\n",
       "\n",
       "    .dataframe thead th {\n",
       "        text-align: right;\n",
       "    }\n",
       "</style>\n",
       "<table border=\"1\" class=\"dataframe\">\n",
       "  <thead>\n",
       "    <tr style=\"text-align: right;\">\n",
       "      <th></th>\n",
       "      <th>winery</th>\n",
       "      <th>wine</th>\n",
       "      <th>year</th>\n",
       "      <th>rating</th>\n",
       "      <th>num_reviews</th>\n",
       "      <th>country</th>\n",
       "      <th>region</th>\n",
       "      <th>price</th>\n",
       "      <th>type</th>\n",
       "      <th>body</th>\n",
       "      <th>acidity</th>\n",
       "    </tr>\n",
       "  </thead>\n",
       "  <tbody>\n",
       "    <tr>\n",
       "      <th>0</th>\n",
       "      <td>Teso La Monja</td>\n",
       "      <td>Tinto</td>\n",
       "      <td>2013</td>\n",
       "      <td>4.9</td>\n",
       "      <td>58</td>\n",
       "      <td>Espana</td>\n",
       "      <td>Toro</td>\n",
       "      <td>995.00</td>\n",
       "      <td>Toro Red</td>\n",
       "      <td>5.0</td>\n",
       "      <td>3.0</td>\n",
       "    </tr>\n",
       "    <tr>\n",
       "      <th>1</th>\n",
       "      <td>Artadi</td>\n",
       "      <td>Vina El Pison</td>\n",
       "      <td>2018</td>\n",
       "      <td>4.9</td>\n",
       "      <td>31</td>\n",
       "      <td>Espana</td>\n",
       "      <td>Vino de Espana</td>\n",
       "      <td>313.50</td>\n",
       "      <td>Tempranillo</td>\n",
       "      <td>4.0</td>\n",
       "      <td>2.0</td>\n",
       "    </tr>\n",
       "    <tr>\n",
       "      <th>2</th>\n",
       "      <td>Vega Sicilia</td>\n",
       "      <td>Unico</td>\n",
       "      <td>2009</td>\n",
       "      <td>4.8</td>\n",
       "      <td>1793</td>\n",
       "      <td>Espana</td>\n",
       "      <td>Ribera del Duero</td>\n",
       "      <td>324.95</td>\n",
       "      <td>Ribera Del Duero Red</td>\n",
       "      <td>5.0</td>\n",
       "      <td>3.0</td>\n",
       "    </tr>\n",
       "    <tr>\n",
       "      <th>3</th>\n",
       "      <td>Vega Sicilia</td>\n",
       "      <td>Unico</td>\n",
       "      <td>1999</td>\n",
       "      <td>4.8</td>\n",
       "      <td>1705</td>\n",
       "      <td>Espana</td>\n",
       "      <td>Ribera del Duero</td>\n",
       "      <td>692.96</td>\n",
       "      <td>Ribera Del Duero Red</td>\n",
       "      <td>5.0</td>\n",
       "      <td>3.0</td>\n",
       "    </tr>\n",
       "    <tr>\n",
       "      <th>4</th>\n",
       "      <td>Vega Sicilia</td>\n",
       "      <td>Unico</td>\n",
       "      <td>1996</td>\n",
       "      <td>4.8</td>\n",
       "      <td>1309</td>\n",
       "      <td>Espana</td>\n",
       "      <td>Ribera del Duero</td>\n",
       "      <td>778.06</td>\n",
       "      <td>Ribera Del Duero Red</td>\n",
       "      <td>5.0</td>\n",
       "      <td>3.0</td>\n",
       "    </tr>\n",
       "  </tbody>\n",
       "</table>\n",
       "</div>"
      ],
      "text/plain": [
       "          winery           wine  year  rating  num_reviews country  \\\n",
       "0  Teso La Monja          Tinto  2013     4.9           58  Espana   \n",
       "1         Artadi  Vina El Pison  2018     4.9           31  Espana   \n",
       "2   Vega Sicilia          Unico  2009     4.8         1793  Espana   \n",
       "3   Vega Sicilia          Unico  1999     4.8         1705  Espana   \n",
       "4   Vega Sicilia          Unico  1996     4.8         1309  Espana   \n",
       "\n",
       "             region   price                  type  body  acidity  \n",
       "0              Toro  995.00              Toro Red   5.0      3.0  \n",
       "1    Vino de Espana  313.50           Tempranillo   4.0      2.0  \n",
       "2  Ribera del Duero  324.95  Ribera Del Duero Red   5.0      3.0  \n",
       "3  Ribera del Duero  692.96  Ribera Del Duero Red   5.0      3.0  \n",
       "4  Ribera del Duero  778.06  Ribera Del Duero Red   5.0      3.0  "
      ]
     },
     "metadata": {},
     "output_type": "display_data"
    },
    {
     "name": "stdout",
     "output_type": "stream",
     "text": [
      "------------------------------------------------------------\n",
      "Otras 5 filas aleatorias\n",
      "------------------------------------------------------------\n"
     ]
    },
    {
     "data": {
      "application/vnd.microsoft.datawrangler.viewer.v0+json": {
       "columns": [
        {
         "name": "index",
         "rawType": "int64",
         "type": "integer"
        },
        {
         "name": "winery",
         "rawType": "object",
         "type": "string"
        },
        {
         "name": "wine",
         "rawType": "object",
         "type": "string"
        },
        {
         "name": "year",
         "rawType": "object",
         "type": "string"
        },
        {
         "name": "rating",
         "rawType": "float64",
         "type": "float"
        },
        {
         "name": "num_reviews",
         "rawType": "int64",
         "type": "integer"
        },
        {
         "name": "country",
         "rawType": "object",
         "type": "string"
        },
        {
         "name": "region",
         "rawType": "object",
         "type": "string"
        },
        {
         "name": "price",
         "rawType": "float64",
         "type": "float"
        },
        {
         "name": "type",
         "rawType": "object",
         "type": "string"
        },
        {
         "name": "body",
         "rawType": "float64",
         "type": "float"
        },
        {
         "name": "acidity",
         "rawType": "float64",
         "type": "float"
        }
       ],
       "ref": "a5e5fa28-4b0e-4bef-87b4-f74dcae4ab6a",
       "rows": [
        [
         "2151",
         "Enrique Mendoza",
         "Santa Rosa",
         "2017",
         "4.2",
         "420",
         "Espana",
         "Alicante",
         "18.9",
         "Red",
         "4.0",
         "3.0"
        ],
        [
         "4851",
         "Enrique Mendoza",
         "Santa Rosa",
         "2017",
         "4.2",
         "420",
         "Espana",
         "Alicante",
         "18.9",
         "Red",
         "4.0",
         "3.0"
        ],
        [
         "7030",
         "Imperial",
         "Rioja Reserva",
         "2004",
         "4.2",
         "417",
         "Espana",
         "Rioja",
         "45.0",
         "Rioja Red",
         "4.0",
         "3.0"
        ],
        [
         "4650",
         "La Vicalanda",
         "Reserva",
         "2015",
         "4.2",
         "420",
         "Espana",
         "Rioja",
         "17.5",
         "Rioja Red",
         "4.0",
         "3.0"
        ],
        [
         "671",
         "Marques de Vargas",
         "Hacienda Pradolagar",
         "2015",
         "4.4",
         "1326",
         "Espana",
         "Rioja",
         "105.12",
         "Rioja Red",
         "4.0",
         "3.0"
        ]
       ],
       "shape": {
        "columns": 11,
        "rows": 5
       }
      },
      "text/html": [
       "<div>\n",
       "<style scoped>\n",
       "    .dataframe tbody tr th:only-of-type {\n",
       "        vertical-align: middle;\n",
       "    }\n",
       "\n",
       "    .dataframe tbody tr th {\n",
       "        vertical-align: top;\n",
       "    }\n",
       "\n",
       "    .dataframe thead th {\n",
       "        text-align: right;\n",
       "    }\n",
       "</style>\n",
       "<table border=\"1\" class=\"dataframe\">\n",
       "  <thead>\n",
       "    <tr style=\"text-align: right;\">\n",
       "      <th></th>\n",
       "      <th>winery</th>\n",
       "      <th>wine</th>\n",
       "      <th>year</th>\n",
       "      <th>rating</th>\n",
       "      <th>num_reviews</th>\n",
       "      <th>country</th>\n",
       "      <th>region</th>\n",
       "      <th>price</th>\n",
       "      <th>type</th>\n",
       "      <th>body</th>\n",
       "      <th>acidity</th>\n",
       "    </tr>\n",
       "  </thead>\n",
       "  <tbody>\n",
       "    <tr>\n",
       "      <th>2151</th>\n",
       "      <td>Enrique Mendoza</td>\n",
       "      <td>Santa Rosa</td>\n",
       "      <td>2017</td>\n",
       "      <td>4.2</td>\n",
       "      <td>420</td>\n",
       "      <td>Espana</td>\n",
       "      <td>Alicante</td>\n",
       "      <td>18.90</td>\n",
       "      <td>Red</td>\n",
       "      <td>4.0</td>\n",
       "      <td>3.0</td>\n",
       "    </tr>\n",
       "    <tr>\n",
       "      <th>4851</th>\n",
       "      <td>Enrique Mendoza</td>\n",
       "      <td>Santa Rosa</td>\n",
       "      <td>2017</td>\n",
       "      <td>4.2</td>\n",
       "      <td>420</td>\n",
       "      <td>Espana</td>\n",
       "      <td>Alicante</td>\n",
       "      <td>18.90</td>\n",
       "      <td>Red</td>\n",
       "      <td>4.0</td>\n",
       "      <td>3.0</td>\n",
       "    </tr>\n",
       "    <tr>\n",
       "      <th>7030</th>\n",
       "      <td>Imperial</td>\n",
       "      <td>Rioja Reserva</td>\n",
       "      <td>2004</td>\n",
       "      <td>4.2</td>\n",
       "      <td>417</td>\n",
       "      <td>Espana</td>\n",
       "      <td>Rioja</td>\n",
       "      <td>45.00</td>\n",
       "      <td>Rioja Red</td>\n",
       "      <td>4.0</td>\n",
       "      <td>3.0</td>\n",
       "    </tr>\n",
       "    <tr>\n",
       "      <th>4650</th>\n",
       "      <td>La Vicalanda</td>\n",
       "      <td>Reserva</td>\n",
       "      <td>2015</td>\n",
       "      <td>4.2</td>\n",
       "      <td>420</td>\n",
       "      <td>Espana</td>\n",
       "      <td>Rioja</td>\n",
       "      <td>17.50</td>\n",
       "      <td>Rioja Red</td>\n",
       "      <td>4.0</td>\n",
       "      <td>3.0</td>\n",
       "    </tr>\n",
       "    <tr>\n",
       "      <th>671</th>\n",
       "      <td>Marques de Vargas</td>\n",
       "      <td>Hacienda Pradolagar</td>\n",
       "      <td>2015</td>\n",
       "      <td>4.4</td>\n",
       "      <td>1326</td>\n",
       "      <td>Espana</td>\n",
       "      <td>Rioja</td>\n",
       "      <td>105.12</td>\n",
       "      <td>Rioja Red</td>\n",
       "      <td>4.0</td>\n",
       "      <td>3.0</td>\n",
       "    </tr>\n",
       "  </tbody>\n",
       "</table>\n",
       "</div>"
      ],
      "text/plain": [
       "                 winery                 wine  year  rating  num_reviews  \\\n",
       "2151    Enrique Mendoza           Santa Rosa  2017     4.2          420   \n",
       "4851    Enrique Mendoza           Santa Rosa  2017     4.2          420   \n",
       "7030           Imperial        Rioja Reserva  2004     4.2          417   \n",
       "4650       La Vicalanda              Reserva  2015     4.2          420   \n",
       "671   Marques de Vargas  Hacienda Pradolagar  2015     4.4         1326   \n",
       "\n",
       "     country    region   price       type  body  acidity  \n",
       "2151  Espana  Alicante   18.90        Red   4.0      3.0  \n",
       "4851  Espana  Alicante   18.90        Red   4.0      3.0  \n",
       "7030  Espana     Rioja   45.00  Rioja Red   4.0      3.0  \n",
       "4650  Espana     Rioja   17.50  Rioja Red   4.0      3.0  \n",
       "671   Espana     Rioja  105.12  Rioja Red   4.0      3.0  "
      ]
     },
     "metadata": {},
     "output_type": "display_data"
    },
    {
     "name": "stdout",
     "output_type": "stream",
     "text": [
      "------------------------------------------------------------\n",
      "Exploración de duplicados:\n",
      "Existen 5452 duplicados\n",
      "------------------------------------------------------------\n",
      "Revisión de nulos:\n",
      "Se encontraron 2885 valores nulos en total. El desglose por columna es:\n",
      "year          2\n",
      "type        545\n",
      "body       1169\n",
      "acidity    1169\n",
      "dtype: int64\n",
      "------------------------------------------------------------\n",
      "Info sobre las columas de Vinos Caros:\n",
      "\n",
      "------------------------------------------------------------\n",
      "<class 'pandas.core.frame.DataFrame'>\n",
      "RangeIndex: 7500 entries, 0 to 7499\n",
      "Data columns (total 11 columns):\n",
      " #   Column       Non-Null Count  Dtype  \n",
      "---  ------       --------------  -----  \n",
      " 0   winery       7500 non-null   object \n",
      " 1   wine         7500 non-null   object \n",
      " 2   year         7498 non-null   object \n",
      " 3   rating       7500 non-null   float64\n",
      " 4   num_reviews  7500 non-null   int64  \n",
      " 5   country      7500 non-null   object \n",
      " 6   region       7500 non-null   object \n",
      " 7   price        7500 non-null   float64\n",
      " 8   type         6955 non-null   object \n",
      " 9   body         6331 non-null   float64\n",
      " 10  acidity      6331 non-null   float64\n",
      "dtypes: float64(4), int64(1), object(6)\n",
      "memory usage: 644.7+ KB\n",
      "------------------------------------------------------------\n",
      "Las medias estadísticas por fila son las siguientes:\n"
     ]
    },
    {
     "data": {
      "application/vnd.microsoft.datawrangler.viewer.v0+json": {
       "columns": [
        {
         "name": "index",
         "rawType": "object",
         "type": "string"
        },
        {
         "name": "count",
         "rawType": "float64",
         "type": "float"
        },
        {
         "name": "mean",
         "rawType": "float64",
         "type": "float"
        },
        {
         "name": "std",
         "rawType": "float64",
         "type": "float"
        },
        {
         "name": "min",
         "rawType": "float64",
         "type": "float"
        },
        {
         "name": "25%",
         "rawType": "float64",
         "type": "float"
        },
        {
         "name": "50%",
         "rawType": "float64",
         "type": "float"
        },
        {
         "name": "75%",
         "rawType": "float64",
         "type": "float"
        },
        {
         "name": "max",
         "rawType": "float64",
         "type": "float"
        }
       ],
       "ref": "64dc11ae-6840-475f-b333-29a24ce5c1e3",
       "rows": [
        [
         "rating",
         "7500.0",
         "4.254933333333334",
         "0.1180290345746442",
         "4.2",
         "4.2",
         "4.2",
         "4.2",
         "4.9"
        ],
        [
         "num_reviews",
         "7500.0",
         "451.10906666666665",
         "723.0018561956374",
         "25.0",
         "389.0",
         "404.0",
         "415.0",
         "32624.0"
        ],
        [
         "price",
         "7500.0",
         "60.09582187159273",
         "150.35667645268242",
         "4.99",
         "18.9",
         "28.53",
         "51.35",
         "3119.08"
        ],
        [
         "body",
         "6331.0",
         "4.158426788816932",
         "0.5833522358684095",
         "2.0",
         "4.0",
         "4.0",
         "5.0",
         "5.0"
        ],
        [
         "acidity",
         "6331.0",
         "2.9466119096509242",
         "0.24820201012421672",
         "1.0",
         "3.0",
         "3.0",
         "3.0",
         "3.0"
        ]
       ],
       "shape": {
        "columns": 8,
        "rows": 5
       }
      },
      "text/html": [
       "<div>\n",
       "<style scoped>\n",
       "    .dataframe tbody tr th:only-of-type {\n",
       "        vertical-align: middle;\n",
       "    }\n",
       "\n",
       "    .dataframe tbody tr th {\n",
       "        vertical-align: top;\n",
       "    }\n",
       "\n",
       "    .dataframe thead th {\n",
       "        text-align: right;\n",
       "    }\n",
       "</style>\n",
       "<table border=\"1\" class=\"dataframe\">\n",
       "  <thead>\n",
       "    <tr style=\"text-align: right;\">\n",
       "      <th></th>\n",
       "      <th>count</th>\n",
       "      <th>mean</th>\n",
       "      <th>std</th>\n",
       "      <th>min</th>\n",
       "      <th>25%</th>\n",
       "      <th>50%</th>\n",
       "      <th>75%</th>\n",
       "      <th>max</th>\n",
       "    </tr>\n",
       "  </thead>\n",
       "  <tbody>\n",
       "    <tr>\n",
       "      <th>rating</th>\n",
       "      <td>7500.0</td>\n",
       "      <td>4.254933</td>\n",
       "      <td>0.118029</td>\n",
       "      <td>4.20</td>\n",
       "      <td>4.2</td>\n",
       "      <td>4.20</td>\n",
       "      <td>4.20</td>\n",
       "      <td>4.90</td>\n",
       "    </tr>\n",
       "    <tr>\n",
       "      <th>num_reviews</th>\n",
       "      <td>7500.0</td>\n",
       "      <td>451.109067</td>\n",
       "      <td>723.001856</td>\n",
       "      <td>25.00</td>\n",
       "      <td>389.0</td>\n",
       "      <td>404.00</td>\n",
       "      <td>415.00</td>\n",
       "      <td>32624.00</td>\n",
       "    </tr>\n",
       "    <tr>\n",
       "      <th>price</th>\n",
       "      <td>7500.0</td>\n",
       "      <td>60.095822</td>\n",
       "      <td>150.356676</td>\n",
       "      <td>4.99</td>\n",
       "      <td>18.9</td>\n",
       "      <td>28.53</td>\n",
       "      <td>51.35</td>\n",
       "      <td>3119.08</td>\n",
       "    </tr>\n",
       "    <tr>\n",
       "      <th>body</th>\n",
       "      <td>6331.0</td>\n",
       "      <td>4.158427</td>\n",
       "      <td>0.583352</td>\n",
       "      <td>2.00</td>\n",
       "      <td>4.0</td>\n",
       "      <td>4.00</td>\n",
       "      <td>5.00</td>\n",
       "      <td>5.00</td>\n",
       "    </tr>\n",
       "    <tr>\n",
       "      <th>acidity</th>\n",
       "      <td>6331.0</td>\n",
       "      <td>2.946612</td>\n",
       "      <td>0.248202</td>\n",
       "      <td>1.00</td>\n",
       "      <td>3.0</td>\n",
       "      <td>3.00</td>\n",
       "      <td>3.00</td>\n",
       "      <td>3.00</td>\n",
       "    </tr>\n",
       "  </tbody>\n",
       "</table>\n",
       "</div>"
      ],
      "text/plain": [
       "              count        mean         std    min    25%     50%     75%  \\\n",
       "rating       7500.0    4.254933    0.118029   4.20    4.2    4.20    4.20   \n",
       "num_reviews  7500.0  451.109067  723.001856  25.00  389.0  404.00  415.00   \n",
       "price        7500.0   60.095822  150.356676   4.99   18.9   28.53   51.35   \n",
       "body         6331.0    4.158427    0.583352   2.00    4.0    4.00    5.00   \n",
       "acidity      6331.0    2.946612    0.248202   1.00    3.0    3.00    3.00   \n",
       "\n",
       "                  max  \n",
       "rating           4.90  \n",
       "num_reviews  32624.00  \n",
       "price         3119.08  \n",
       "body             5.00  \n",
       "acidity          3.00  "
      ]
     },
     "metadata": {},
     "output_type": "display_data"
    },
    {
     "name": "stdout",
     "output_type": "stream",
     "text": [
      "------------------------------------------------------------\n",
      "------------------------------------------------------------\n",
      "Tenemos 2018 filas y 9 columnas\n",
      "------------------------------------------------------------\n",
      "A continuación se presenta la exploración inicial de : \n",
      "\n",
      " Vinos Asequibles \n",
      "\n",
      "------------------------------------------------------------\n",
      "Primeras 5 filas:\n",
      "------------------------------------------------------------\n"
     ]
    },
    {
     "data": {
      "application/vnd.microsoft.datawrangler.viewer.v0+json": {
       "columns": [
        {
         "name": "index",
         "rawType": "int64",
         "type": "integer"
        },
        {
         "name": "Winery",
         "rawType": "object",
         "type": "string"
        },
        {
         "name": "Year",
         "rawType": "object",
         "type": "unknown"
        },
        {
         "name": "Wine ID",
         "rawType": "int64",
         "type": "integer"
        },
        {
         "name": "Wine",
         "rawType": "object",
         "type": "string"
        },
        {
         "name": "Rating",
         "rawType": "float64",
         "type": "float"
        },
        {
         "name": "num_review",
         "rawType": "int64",
         "type": "integer"
        },
        {
         "name": "price",
         "rawType": "float64",
         "type": "float"
        },
        {
         "name": "Country",
         "rawType": "object",
         "type": "string"
        },
        {
         "name": "Region",
         "rawType": "object",
         "type": "string"
        }
       ],
       "ref": "2993039c-deac-4a1c-a7e5-da80f5908ac3",
       "rows": [
        [
         "0",
         "3 Ases",
         "2019",
         "1587145",
         "Roble 2019",
         "3.9",
         "45",
         "8.25",
         "España",
         "Ribera del Duero"
        ],
        [
         "1",
         "7 Magnífics",
         "2018",
         "5151267",
         "Rebels de Batea Tinto 2018",
         "3.7",
         "254",
         "9.72",
         "España",
         "Terra Alta"
        ],
        [
         "2",
         "7 Magnífics",
         "2019",
         "5151267",
         "Rebels de Batea Tinto 2019",
         "3.5",
         "39",
         "9.75",
         "España",
         "Terra Alta"
        ],
        [
         "3",
         "7 Magnífics",
         "2020",
         "3155589",
         "El Senat del Montsant 2020",
         "3.8",
         "29",
         "11.9",
         "España",
         "Montsant"
        ],
        [
         "4",
         "8.0.1",
         "N.V.",
         "1393973",
         "Edición Limitada N.V.",
         "3.8",
         "623",
         "9.8",
         "España",
         "Cariñena"
        ]
       ],
       "shape": {
        "columns": 9,
        "rows": 5
       }
      },
      "text/html": [
       "<div>\n",
       "<style scoped>\n",
       "    .dataframe tbody tr th:only-of-type {\n",
       "        vertical-align: middle;\n",
       "    }\n",
       "\n",
       "    .dataframe tbody tr th {\n",
       "        vertical-align: top;\n",
       "    }\n",
       "\n",
       "    .dataframe thead th {\n",
       "        text-align: right;\n",
       "    }\n",
       "</style>\n",
       "<table border=\"1\" class=\"dataframe\">\n",
       "  <thead>\n",
       "    <tr style=\"text-align: right;\">\n",
       "      <th></th>\n",
       "      <th>Winery</th>\n",
       "      <th>Year</th>\n",
       "      <th>Wine ID</th>\n",
       "      <th>Wine</th>\n",
       "      <th>Rating</th>\n",
       "      <th>num_review</th>\n",
       "      <th>price</th>\n",
       "      <th>Country</th>\n",
       "      <th>Region</th>\n",
       "    </tr>\n",
       "  </thead>\n",
       "  <tbody>\n",
       "    <tr>\n",
       "      <th>0</th>\n",
       "      <td>3 Ases</td>\n",
       "      <td>2019</td>\n",
       "      <td>1587145</td>\n",
       "      <td>Roble 2019</td>\n",
       "      <td>3.9</td>\n",
       "      <td>45</td>\n",
       "      <td>8.25</td>\n",
       "      <td>España</td>\n",
       "      <td>Ribera del Duero</td>\n",
       "    </tr>\n",
       "    <tr>\n",
       "      <th>1</th>\n",
       "      <td>7 Magnífics</td>\n",
       "      <td>2018</td>\n",
       "      <td>5151267</td>\n",
       "      <td>Rebels de Batea Tinto 2018</td>\n",
       "      <td>3.7</td>\n",
       "      <td>254</td>\n",
       "      <td>9.72</td>\n",
       "      <td>España</td>\n",
       "      <td>Terra Alta</td>\n",
       "    </tr>\n",
       "    <tr>\n",
       "      <th>2</th>\n",
       "      <td>7 Magnífics</td>\n",
       "      <td>2019</td>\n",
       "      <td>5151267</td>\n",
       "      <td>Rebels de Batea Tinto 2019</td>\n",
       "      <td>3.5</td>\n",
       "      <td>39</td>\n",
       "      <td>9.75</td>\n",
       "      <td>España</td>\n",
       "      <td>Terra Alta</td>\n",
       "    </tr>\n",
       "    <tr>\n",
       "      <th>3</th>\n",
       "      <td>7 Magnífics</td>\n",
       "      <td>2020</td>\n",
       "      <td>3155589</td>\n",
       "      <td>El Senat del Montsant 2020</td>\n",
       "      <td>3.8</td>\n",
       "      <td>29</td>\n",
       "      <td>11.90</td>\n",
       "      <td>España</td>\n",
       "      <td>Montsant</td>\n",
       "    </tr>\n",
       "    <tr>\n",
       "      <th>4</th>\n",
       "      <td>8.0.1</td>\n",
       "      <td>N.V.</td>\n",
       "      <td>1393973</td>\n",
       "      <td>Edición Limitada N.V.</td>\n",
       "      <td>3.8</td>\n",
       "      <td>623</td>\n",
       "      <td>9.80</td>\n",
       "      <td>España</td>\n",
       "      <td>Cariñena</td>\n",
       "    </tr>\n",
       "  </tbody>\n",
       "</table>\n",
       "</div>"
      ],
      "text/plain": [
       "        Winery  Year  Wine ID                        Wine  Rating  num_review  \\\n",
       "0       3 Ases  2019  1587145                  Roble 2019     3.9          45   \n",
       "1  7 Magnífics  2018  5151267  Rebels de Batea Tinto 2018     3.7         254   \n",
       "2  7 Magnífics  2019  5151267  Rebels de Batea Tinto 2019     3.5          39   \n",
       "3  7 Magnífics  2020  3155589  El Senat del Montsant 2020     3.8          29   \n",
       "4        8.0.1  N.V.  1393973       Edición Limitada N.V.     3.8         623   \n",
       "\n",
       "   price Country            Region  \n",
       "0   8.25  España  Ribera del Duero  \n",
       "1   9.72  España        Terra Alta  \n",
       "2   9.75  España        Terra Alta  \n",
       "3  11.90  España          Montsant  \n",
       "4   9.80  España          Cariñena  "
      ]
     },
     "metadata": {},
     "output_type": "display_data"
    },
    {
     "name": "stdout",
     "output_type": "stream",
     "text": [
      "------------------------------------------------------------\n",
      "Otras 5 filas aleatorias\n",
      "------------------------------------------------------------\n"
     ]
    },
    {
     "data": {
      "application/vnd.microsoft.datawrangler.viewer.v0+json": {
       "columns": [
        {
         "name": "index",
         "rawType": "int64",
         "type": "integer"
        },
        {
         "name": "Winery",
         "rawType": "object",
         "type": "string"
        },
        {
         "name": "Year",
         "rawType": "object",
         "type": "unknown"
        },
        {
         "name": "Wine ID",
         "rawType": "int64",
         "type": "integer"
        },
        {
         "name": "Wine",
         "rawType": "object",
         "type": "string"
        },
        {
         "name": "Rating",
         "rawType": "float64",
         "type": "float"
        },
        {
         "name": "num_review",
         "rawType": "int64",
         "type": "integer"
        },
        {
         "name": "price",
         "rawType": "float64",
         "type": "float"
        },
        {
         "name": "Country",
         "rawType": "object",
         "type": "string"
        },
        {
         "name": "Region",
         "rawType": "object",
         "type": "string"
        }
       ],
       "ref": "b81e55bb-46a0-435f-aff5-f7c85a9e4ec9",
       "rows": [
        [
         "420",
         "Bodegas Valdemar",
         "2016",
         "15487",
         "Conde de Valdemar Crianza 2016",
         "3.7",
         "336",
         "7.5",
         "España",
         "Rioja"
        ],
        [
         "1195",
         "Las Moradas de San Martín",
         "2018",
         "1586637",
         "Senda 2018",
         "3.6",
         "62",
         "8.9",
         "España",
         "Madrid"
        ],
        [
         "434",
         "Bodegas Virgen de Galir",
         "2019",
         "7419457",
         "Maruxa Mencia 2019",
         "3.7",
         "235",
         "6.85",
         "España",
         "Valdeorras"
        ],
        [
         "523",
         "Canopy",
         "2019",
         "1952604",
         "Castillo de Belarfonso Mentrida 2019",
         "3.6",
         "59",
         "8.95",
         "España",
         "Méntrida"
        ],
        [
         "1820",
         "Valderiz",
         "2020",
         "1155142",
         "Valdehermoso Joven 2020",
         "3.2",
         "34",
         "5.25",
         "España",
         "Ribera del Duero"
        ]
       ],
       "shape": {
        "columns": 9,
        "rows": 5
       }
      },
      "text/html": [
       "<div>\n",
       "<style scoped>\n",
       "    .dataframe tbody tr th:only-of-type {\n",
       "        vertical-align: middle;\n",
       "    }\n",
       "\n",
       "    .dataframe tbody tr th {\n",
       "        vertical-align: top;\n",
       "    }\n",
       "\n",
       "    .dataframe thead th {\n",
       "        text-align: right;\n",
       "    }\n",
       "</style>\n",
       "<table border=\"1\" class=\"dataframe\">\n",
       "  <thead>\n",
       "    <tr style=\"text-align: right;\">\n",
       "      <th></th>\n",
       "      <th>Winery</th>\n",
       "      <th>Year</th>\n",
       "      <th>Wine ID</th>\n",
       "      <th>Wine</th>\n",
       "      <th>Rating</th>\n",
       "      <th>num_review</th>\n",
       "      <th>price</th>\n",
       "      <th>Country</th>\n",
       "      <th>Region</th>\n",
       "    </tr>\n",
       "  </thead>\n",
       "  <tbody>\n",
       "    <tr>\n",
       "      <th>420</th>\n",
       "      <td>Bodegas Valdemar</td>\n",
       "      <td>2016</td>\n",
       "      <td>15487</td>\n",
       "      <td>Conde de Valdemar Crianza 2016</td>\n",
       "      <td>3.7</td>\n",
       "      <td>336</td>\n",
       "      <td>7.50</td>\n",
       "      <td>España</td>\n",
       "      <td>Rioja</td>\n",
       "    </tr>\n",
       "    <tr>\n",
       "      <th>1195</th>\n",
       "      <td>Las Moradas de San Martín</td>\n",
       "      <td>2018</td>\n",
       "      <td>1586637</td>\n",
       "      <td>Senda 2018</td>\n",
       "      <td>3.6</td>\n",
       "      <td>62</td>\n",
       "      <td>8.90</td>\n",
       "      <td>España</td>\n",
       "      <td>Madrid</td>\n",
       "    </tr>\n",
       "    <tr>\n",
       "      <th>434</th>\n",
       "      <td>Bodegas Virgen de Galir</td>\n",
       "      <td>2019</td>\n",
       "      <td>7419457</td>\n",
       "      <td>Maruxa Mencia 2019</td>\n",
       "      <td>3.7</td>\n",
       "      <td>235</td>\n",
       "      <td>6.85</td>\n",
       "      <td>España</td>\n",
       "      <td>Valdeorras</td>\n",
       "    </tr>\n",
       "    <tr>\n",
       "      <th>523</th>\n",
       "      <td>Canopy</td>\n",
       "      <td>2019</td>\n",
       "      <td>1952604</td>\n",
       "      <td>Castillo de Belarfonso Mentrida 2019</td>\n",
       "      <td>3.6</td>\n",
       "      <td>59</td>\n",
       "      <td>8.95</td>\n",
       "      <td>España</td>\n",
       "      <td>Méntrida</td>\n",
       "    </tr>\n",
       "    <tr>\n",
       "      <th>1820</th>\n",
       "      <td>Valderiz</td>\n",
       "      <td>2020</td>\n",
       "      <td>1155142</td>\n",
       "      <td>Valdehermoso Joven 2020</td>\n",
       "      <td>3.2</td>\n",
       "      <td>34</td>\n",
       "      <td>5.25</td>\n",
       "      <td>España</td>\n",
       "      <td>Ribera del Duero</td>\n",
       "    </tr>\n",
       "  </tbody>\n",
       "</table>\n",
       "</div>"
      ],
      "text/plain": [
       "                         Winery  Year  Wine ID  \\\n",
       "420            Bodegas Valdemar  2016    15487   \n",
       "1195  Las Moradas de San Martín  2018  1586637   \n",
       "434     Bodegas Virgen de Galir  2019  7419457   \n",
       "523                      Canopy  2019  1952604   \n",
       "1820                   Valderiz  2020  1155142   \n",
       "\n",
       "                                      Wine  Rating  num_review  price Country  \\\n",
       "420         Conde de Valdemar Crianza 2016     3.7         336   7.50  España   \n",
       "1195                            Senda 2018     3.6          62   8.90  España   \n",
       "434                     Maruxa Mencia 2019     3.7         235   6.85  España   \n",
       "523   Castillo de Belarfonso Mentrida 2019     3.6          59   8.95  España   \n",
       "1820               Valdehermoso Joven 2020     3.2          34   5.25  España   \n",
       "\n",
       "                Region  \n",
       "420              Rioja  \n",
       "1195            Madrid  \n",
       "434         Valdeorras  \n",
       "523           Méntrida  \n",
       "1820  Ribera del Duero  "
      ]
     },
     "metadata": {},
     "output_type": "display_data"
    },
    {
     "name": "stdout",
     "output_type": "stream",
     "text": [
      "------------------------------------------------------------\n",
      "Exploración de duplicados:\n",
      "Existen 0 duplicados\n",
      "------------------------------------------------------------\n",
      "Revisión de nulos:\n",
      " No se encontraron valores nulos en el DataFrame.\n",
      "------------------------------------------------------------\n",
      "Info sobre las columas de Vinos Asequibles:\n",
      "\n",
      "------------------------------------------------------------\n",
      "<class 'pandas.core.frame.DataFrame'>\n",
      "RangeIndex: 2018 entries, 0 to 2017\n",
      "Data columns (total 9 columns):\n",
      " #   Column      Non-Null Count  Dtype  \n",
      "---  ------      --------------  -----  \n",
      " 0   Winery      2018 non-null   object \n",
      " 1   Year        2018 non-null   object \n",
      " 2   Wine ID     2018 non-null   int64  \n",
      " 3   Wine        2018 non-null   object \n",
      " 4   Rating      2018 non-null   float64\n",
      " 5   num_review  2018 non-null   int64  \n",
      " 6   price       2018 non-null   float64\n",
      " 7   Country     2018 non-null   object \n",
      " 8   Region      2018 non-null   object \n",
      "dtypes: float64(2), int64(2), object(5)\n",
      "memory usage: 142.0+ KB\n",
      "------------------------------------------------------------\n",
      "Las medias estadísticas por fila son las siguientes:\n"
     ]
    },
    {
     "data": {
      "application/vnd.microsoft.datawrangler.viewer.v0+json": {
       "columns": [
        {
         "name": "index",
         "rawType": "object",
         "type": "string"
        },
        {
         "name": "count",
         "rawType": "float64",
         "type": "float"
        },
        {
         "name": "mean",
         "rawType": "float64",
         "type": "float"
        },
        {
         "name": "std",
         "rawType": "float64",
         "type": "float"
        },
        {
         "name": "min",
         "rawType": "float64",
         "type": "float"
        },
        {
         "name": "25%",
         "rawType": "float64",
         "type": "float"
        },
        {
         "name": "50%",
         "rawType": "float64",
         "type": "float"
        },
        {
         "name": "75%",
         "rawType": "float64",
         "type": "float"
        },
        {
         "name": "max",
         "rawType": "float64",
         "type": "float"
        }
       ],
       "ref": "22e8aa65-4af2-4ae7-b18b-e566e7354ed8",
       "rows": [
        [
         "Wine ID",
         "2018.0",
         "2759297.4816650148",
         "2274813.6669508326",
         "1615.0",
         "1205627.0",
         "1724108.0",
         "4310591.25",
         "10246805.0"
        ],
        [
         "Rating",
         "2018.0",
         "3.6949950445986124",
         "0.2225059534729582",
         "2.4",
         "3.6",
         "3.7",
         "3.8",
         "4.4"
        ],
        [
         "num_review",
         "2018.0",
         "321.93062438057484",
         "1035.1241639762366",
         "25.0",
         "49.0",
         "104.0",
         "260.75",
         "29389.0"
        ],
        [
         "price",
         "2018.0",
         "8.674073339940534",
         "2.453831837703465",
         "2.5",
         "6.85",
         "8.855",
         "10.7",
         "12.9"
        ]
       ],
       "shape": {
        "columns": 8,
        "rows": 4
       }
      },
      "text/html": [
       "<div>\n",
       "<style scoped>\n",
       "    .dataframe tbody tr th:only-of-type {\n",
       "        vertical-align: middle;\n",
       "    }\n",
       "\n",
       "    .dataframe tbody tr th {\n",
       "        vertical-align: top;\n",
       "    }\n",
       "\n",
       "    .dataframe thead th {\n",
       "        text-align: right;\n",
       "    }\n",
       "</style>\n",
       "<table border=\"1\" class=\"dataframe\">\n",
       "  <thead>\n",
       "    <tr style=\"text-align: right;\">\n",
       "      <th></th>\n",
       "      <th>count</th>\n",
       "      <th>mean</th>\n",
       "      <th>std</th>\n",
       "      <th>min</th>\n",
       "      <th>25%</th>\n",
       "      <th>50%</th>\n",
       "      <th>75%</th>\n",
       "      <th>max</th>\n",
       "    </tr>\n",
       "  </thead>\n",
       "  <tbody>\n",
       "    <tr>\n",
       "      <th>Wine ID</th>\n",
       "      <td>2018.0</td>\n",
       "      <td>2.759297e+06</td>\n",
       "      <td>2.274814e+06</td>\n",
       "      <td>1615.0</td>\n",
       "      <td>1205627.00</td>\n",
       "      <td>1724108.000</td>\n",
       "      <td>4310591.25</td>\n",
       "      <td>10246805.0</td>\n",
       "    </tr>\n",
       "    <tr>\n",
       "      <th>Rating</th>\n",
       "      <td>2018.0</td>\n",
       "      <td>3.694995e+00</td>\n",
       "      <td>2.225060e-01</td>\n",
       "      <td>2.4</td>\n",
       "      <td>3.60</td>\n",
       "      <td>3.700</td>\n",
       "      <td>3.80</td>\n",
       "      <td>4.4</td>\n",
       "    </tr>\n",
       "    <tr>\n",
       "      <th>num_review</th>\n",
       "      <td>2018.0</td>\n",
       "      <td>3.219306e+02</td>\n",
       "      <td>1.035124e+03</td>\n",
       "      <td>25.0</td>\n",
       "      <td>49.00</td>\n",
       "      <td>104.000</td>\n",
       "      <td>260.75</td>\n",
       "      <td>29389.0</td>\n",
       "    </tr>\n",
       "    <tr>\n",
       "      <th>price</th>\n",
       "      <td>2018.0</td>\n",
       "      <td>8.674073e+00</td>\n",
       "      <td>2.453832e+00</td>\n",
       "      <td>2.5</td>\n",
       "      <td>6.85</td>\n",
       "      <td>8.855</td>\n",
       "      <td>10.70</td>\n",
       "      <td>12.9</td>\n",
       "    </tr>\n",
       "  </tbody>\n",
       "</table>\n",
       "</div>"
      ],
      "text/plain": [
       "             count          mean           std     min         25%  \\\n",
       "Wine ID     2018.0  2.759297e+06  2.274814e+06  1615.0  1205627.00   \n",
       "Rating      2018.0  3.694995e+00  2.225060e-01     2.4        3.60   \n",
       "num_review  2018.0  3.219306e+02  1.035124e+03    25.0       49.00   \n",
       "price       2018.0  8.674073e+00  2.453832e+00     2.5        6.85   \n",
       "\n",
       "                    50%         75%         max  \n",
       "Wine ID     1724108.000  4310591.25  10246805.0  \n",
       "Rating            3.700        3.80         4.4  \n",
       "num_review      104.000      260.75     29389.0  \n",
       "price             8.855       10.70        12.9  "
      ]
     },
     "metadata": {},
     "output_type": "display_data"
    },
    {
     "name": "stdout",
     "output_type": "stream",
     "text": [
      "------------------------------------------------------------\n",
      "------------------------------------------------------------\n",
      "Tenemos 20 filas y 5 columnas\n",
      "------------------------------------------------------------\n",
      "A continuación se presenta la exploración inicial de : \n",
      "\n",
      " Mayores Productores de Vino Mundiales \n",
      "\n",
      "------------------------------------------------------------\n",
      "Primeras 5 filas:\n",
      "------------------------------------------------------------\n"
     ]
    },
    {
     "data": {
      "application/vnd.microsoft.datawrangler.viewer.v0+json": {
       "columns": [
        {
         "name": "index",
         "rawType": "int64",
         "type": "integer"
        },
        {
         "name": "Country",
         "rawType": "object",
         "type": "string"
        },
        {
         "name": "Vineyards (hectares)",
         "rawType": "object",
         "type": "string"
        },
        {
         "name": "Wine Produced (million hectolitres)",
         "rawType": "float64",
         "type": "float"
        },
        {
         "name": "Global Exports",
         "rawType": "float64",
         "type": "float"
        },
        {
         "name": "Av. Rating",
         "rawType": "float64",
         "type": "float"
        }
       ],
       "ref": "67d28492-1cd5-441e-a308-e767e4dc6f6a",
       "rows": [
        [
         "0",
         "France",
         "789,000",
         "49.1",
         "29.5",
         "82.3"
        ],
        [
         "1",
         "Italy",
         "702,000",
         "54.8",
         "19.6",
         "81.1"
        ],
        [
         "2",
         "Spain",
         "969,000",
         "44.4",
         "9.4",
         "80.2"
        ],
        [
         "3",
         "United States",
         "430,000",
         "23.9",
         "3.9",
         "82.6"
        ],
        [
         "4",
         "China",
         "875,000",
         "9.3",
         "1.0",
         "69.5"
        ]
       ],
       "shape": {
        "columns": 5,
        "rows": 5
       }
      },
      "text/html": [
       "<div>\n",
       "<style scoped>\n",
       "    .dataframe tbody tr th:only-of-type {\n",
       "        vertical-align: middle;\n",
       "    }\n",
       "\n",
       "    .dataframe tbody tr th {\n",
       "        vertical-align: top;\n",
       "    }\n",
       "\n",
       "    .dataframe thead th {\n",
       "        text-align: right;\n",
       "    }\n",
       "</style>\n",
       "<table border=\"1\" class=\"dataframe\">\n",
       "  <thead>\n",
       "    <tr style=\"text-align: right;\">\n",
       "      <th></th>\n",
       "      <th>Country</th>\n",
       "      <th>Vineyards (hectares)</th>\n",
       "      <th>Wine Produced (million hectolitres)</th>\n",
       "      <th>Global Exports</th>\n",
       "      <th>Av. Rating</th>\n",
       "    </tr>\n",
       "  </thead>\n",
       "  <tbody>\n",
       "    <tr>\n",
       "      <th>0</th>\n",
       "      <td>France</td>\n",
       "      <td>789,000</td>\n",
       "      <td>49.1</td>\n",
       "      <td>29.5</td>\n",
       "      <td>82.3</td>\n",
       "    </tr>\n",
       "    <tr>\n",
       "      <th>1</th>\n",
       "      <td>Italy</td>\n",
       "      <td>702,000</td>\n",
       "      <td>54.8</td>\n",
       "      <td>19.6</td>\n",
       "      <td>81.1</td>\n",
       "    </tr>\n",
       "    <tr>\n",
       "      <th>2</th>\n",
       "      <td>Spain</td>\n",
       "      <td>969,000</td>\n",
       "      <td>44.4</td>\n",
       "      <td>9.4</td>\n",
       "      <td>80.2</td>\n",
       "    </tr>\n",
       "    <tr>\n",
       "      <th>3</th>\n",
       "      <td>United States</td>\n",
       "      <td>430,000</td>\n",
       "      <td>23.9</td>\n",
       "      <td>3.9</td>\n",
       "      <td>82.6</td>\n",
       "    </tr>\n",
       "    <tr>\n",
       "      <th>4</th>\n",
       "      <td>China</td>\n",
       "      <td>875,000</td>\n",
       "      <td>9.3</td>\n",
       "      <td>1.0</td>\n",
       "      <td>69.5</td>\n",
       "    </tr>\n",
       "  </tbody>\n",
       "</table>\n",
       "</div>"
      ],
      "text/plain": [
       "         Country Vineyards (hectares)  Wine Produced (million hectolitres)  \\\n",
       "0         France              789,000                                 49.1   \n",
       "1          Italy              702,000                                 54.8   \n",
       "2          Spain              969,000                                 44.4   \n",
       "3  United States              430,000                                 23.9   \n",
       "4          China              875,000                                  9.3   \n",
       "\n",
       "   Global Exports  Av. Rating  \n",
       "0            29.5        82.3  \n",
       "1            19.6        81.1  \n",
       "2             9.4        80.2  \n",
       "3             3.9        82.6  \n",
       "4             1.0        69.5  "
      ]
     },
     "metadata": {},
     "output_type": "display_data"
    },
    {
     "name": "stdout",
     "output_type": "stream",
     "text": [
      "------------------------------------------------------------\n",
      "Otras 5 filas aleatorias\n",
      "------------------------------------------------------------\n"
     ]
    },
    {
     "data": {
      "application/vnd.microsoft.datawrangler.viewer.v0+json": {
       "columns": [
        {
         "name": "index",
         "rawType": "int64",
         "type": "integer"
        },
        {
         "name": "Country",
         "rawType": "object",
         "type": "string"
        },
        {
         "name": "Vineyards (hectares)",
         "rawType": "object",
         "type": "string"
        },
        {
         "name": "Wine Produced (million hectolitres)",
         "rawType": "float64",
         "type": "float"
        },
        {
         "name": "Global Exports",
         "rawType": "float64",
         "type": "float"
        },
        {
         "name": "Av. Rating",
         "rawType": "float64",
         "type": "float"
        }
       ],
       "ref": "0e3c8494-5d96-4144-bb6c-97e510cb6d80",
       "rows": [
        [
         "14",
         "Greece",
         "106,000",
         "2.2",
         "0.3",
         "79.7"
        ],
        [
         "2",
         "Spain",
         "969,000",
         "44.4",
         "9.4",
         "80.2"
        ],
        [
         "13",
         "New Zealand",
         "39,000",
         "3.0",
         "3.2",
         "80.9"
        ],
        [
         "1",
         "Italy",
         "702,000",
         "54.8",
         "19.6",
         "81.1"
        ],
        [
         "5",
         "Chile",
         "212,000",
         "12.9",
         "5.3",
         "78.6"
        ]
       ],
       "shape": {
        "columns": 5,
        "rows": 5
       }
      },
      "text/html": [
       "<div>\n",
       "<style scoped>\n",
       "    .dataframe tbody tr th:only-of-type {\n",
       "        vertical-align: middle;\n",
       "    }\n",
       "\n",
       "    .dataframe tbody tr th {\n",
       "        vertical-align: top;\n",
       "    }\n",
       "\n",
       "    .dataframe thead th {\n",
       "        text-align: right;\n",
       "    }\n",
       "</style>\n",
       "<table border=\"1\" class=\"dataframe\">\n",
       "  <thead>\n",
       "    <tr style=\"text-align: right;\">\n",
       "      <th></th>\n",
       "      <th>Country</th>\n",
       "      <th>Vineyards (hectares)</th>\n",
       "      <th>Wine Produced (million hectolitres)</th>\n",
       "      <th>Global Exports</th>\n",
       "      <th>Av. Rating</th>\n",
       "    </tr>\n",
       "  </thead>\n",
       "  <tbody>\n",
       "    <tr>\n",
       "      <th>14</th>\n",
       "      <td>Greece</td>\n",
       "      <td>106,000</td>\n",
       "      <td>2.2</td>\n",
       "      <td>0.3</td>\n",
       "      <td>79.7</td>\n",
       "    </tr>\n",
       "    <tr>\n",
       "      <th>2</th>\n",
       "      <td>Spain</td>\n",
       "      <td>969,000</td>\n",
       "      <td>44.4</td>\n",
       "      <td>9.4</td>\n",
       "      <td>80.2</td>\n",
       "    </tr>\n",
       "    <tr>\n",
       "      <th>13</th>\n",
       "      <td>New Zealand</td>\n",
       "      <td>39,000</td>\n",
       "      <td>3.0</td>\n",
       "      <td>3.2</td>\n",
       "      <td>80.9</td>\n",
       "    </tr>\n",
       "    <tr>\n",
       "      <th>1</th>\n",
       "      <td>Italy</td>\n",
       "      <td>702,000</td>\n",
       "      <td>54.8</td>\n",
       "      <td>19.6</td>\n",
       "      <td>81.1</td>\n",
       "    </tr>\n",
       "    <tr>\n",
       "      <th>5</th>\n",
       "      <td>Chile</td>\n",
       "      <td>212,000</td>\n",
       "      <td>12.9</td>\n",
       "      <td>5.3</td>\n",
       "      <td>78.6</td>\n",
       "    </tr>\n",
       "  </tbody>\n",
       "</table>\n",
       "</div>"
      ],
      "text/plain": [
       "        Country Vineyards (hectares)  Wine Produced (million hectolitres)  \\\n",
       "14       Greece              106,000                                  2.2   \n",
       "2         Spain              969,000                                 44.4   \n",
       "13  New Zealand               39,000                                  3.0   \n",
       "1         Italy              702,000                                 54.8   \n",
       "5         Chile              212,000                                 12.9   \n",
       "\n",
       "    Global Exports  Av. Rating  \n",
       "14             0.3        79.7  \n",
       "2              9.4        80.2  \n",
       "13             3.2        80.9  \n",
       "1             19.6        81.1  \n",
       "5              5.3        78.6  "
      ]
     },
     "metadata": {},
     "output_type": "display_data"
    },
    {
     "name": "stdout",
     "output_type": "stream",
     "text": [
      "------------------------------------------------------------\n",
      "Exploración de duplicados:\n",
      "Existen 0 duplicados\n",
      "------------------------------------------------------------\n",
      "Revisión de nulos:\n",
      " No se encontraron valores nulos en el DataFrame.\n",
      "------------------------------------------------------------\n",
      "Info sobre las columas de Mayores Productores de Vino Mundiales:\n",
      "\n",
      "------------------------------------------------------------\n",
      "<class 'pandas.core.frame.DataFrame'>\n",
      "RangeIndex: 20 entries, 0 to 19\n",
      "Data columns (total 5 columns):\n",
      " #   Column                               Non-Null Count  Dtype  \n",
      "---  ------                               --------------  -----  \n",
      " 0   Country                              20 non-null     object \n",
      " 1   Vineyards (hectares)                 20 non-null     object \n",
      " 2   Wine Produced (million hectolitres)  20 non-null     float64\n",
      " 3   Global Exports                       20 non-null     float64\n",
      " 4   Av. Rating                           20 non-null     float64\n",
      "dtypes: float64(3), object(2)\n",
      "memory usage: 932.0+ bytes\n",
      "------------------------------------------------------------\n",
      "Las medias estadísticas por fila son las siguientes:\n"
     ]
    },
    {
     "data": {
      "application/vnd.microsoft.datawrangler.viewer.v0+json": {
       "columns": [
        {
         "name": "index",
         "rawType": "object",
         "type": "string"
        },
        {
         "name": "count",
         "rawType": "float64",
         "type": "float"
        },
        {
         "name": "mean",
         "rawType": "float64",
         "type": "float"
        },
        {
         "name": "std",
         "rawType": "float64",
         "type": "float"
        },
        {
         "name": "min",
         "rawType": "float64",
         "type": "float"
        },
        {
         "name": "25%",
         "rawType": "float64",
         "type": "float"
        },
        {
         "name": "50%",
         "rawType": "float64",
         "type": "float"
        },
        {
         "name": "75%",
         "rawType": "float64",
         "type": "float"
        },
        {
         "name": "max",
         "rawType": "float64",
         "type": "float"
        }
       ],
       "ref": "1dd8e705-e8b1-4445-9dae-c9e97b7cd08d",
       "rows": [
        [
         "Wine Produced (million hectolitres)",
         "20.0",
         "13.480000000000004",
         "16.619569948201367",
         "0.5",
         "2.95",
         "7.7",
         "13.3",
         "54.8"
        ],
        [
         "Global Exports",
         "20.0",
         "4.4825",
         "7.455853140495162",
         "0.02",
         "0.3",
         "2.1500000000000004",
         "4.25",
         "29.5"
        ],
        [
         "Av. Rating",
         "20.0",
         "79.445",
         "2.699020290089681",
         "69.5",
         "78.52499999999999",
         "80.1",
         "80.75",
         "82.6"
        ]
       ],
       "shape": {
        "columns": 8,
        "rows": 3
       }
      },
      "text/html": [
       "<div>\n",
       "<style scoped>\n",
       "    .dataframe tbody tr th:only-of-type {\n",
       "        vertical-align: middle;\n",
       "    }\n",
       "\n",
       "    .dataframe tbody tr th {\n",
       "        vertical-align: top;\n",
       "    }\n",
       "\n",
       "    .dataframe thead th {\n",
       "        text-align: right;\n",
       "    }\n",
       "</style>\n",
       "<table border=\"1\" class=\"dataframe\">\n",
       "  <thead>\n",
       "    <tr style=\"text-align: right;\">\n",
       "      <th></th>\n",
       "      <th>count</th>\n",
       "      <th>mean</th>\n",
       "      <th>std</th>\n",
       "      <th>min</th>\n",
       "      <th>25%</th>\n",
       "      <th>50%</th>\n",
       "      <th>75%</th>\n",
       "      <th>max</th>\n",
       "    </tr>\n",
       "  </thead>\n",
       "  <tbody>\n",
       "    <tr>\n",
       "      <th>Wine Produced (million hectolitres)</th>\n",
       "      <td>20.0</td>\n",
       "      <td>13.4800</td>\n",
       "      <td>16.619570</td>\n",
       "      <td>0.50</td>\n",
       "      <td>2.950</td>\n",
       "      <td>7.70</td>\n",
       "      <td>13.30</td>\n",
       "      <td>54.8</td>\n",
       "    </tr>\n",
       "    <tr>\n",
       "      <th>Global Exports</th>\n",
       "      <td>20.0</td>\n",
       "      <td>4.4825</td>\n",
       "      <td>7.455853</td>\n",
       "      <td>0.02</td>\n",
       "      <td>0.300</td>\n",
       "      <td>2.15</td>\n",
       "      <td>4.25</td>\n",
       "      <td>29.5</td>\n",
       "    </tr>\n",
       "    <tr>\n",
       "      <th>Av. Rating</th>\n",
       "      <td>20.0</td>\n",
       "      <td>79.4450</td>\n",
       "      <td>2.699020</td>\n",
       "      <td>69.50</td>\n",
       "      <td>78.525</td>\n",
       "      <td>80.10</td>\n",
       "      <td>80.75</td>\n",
       "      <td>82.6</td>\n",
       "    </tr>\n",
       "  </tbody>\n",
       "</table>\n",
       "</div>"
      ],
      "text/plain": [
       "                                     count     mean        std    min     25%  \\\n",
       "Wine Produced (million hectolitres)   20.0  13.4800  16.619570   0.50   2.950   \n",
       "Global Exports                        20.0   4.4825   7.455853   0.02   0.300   \n",
       "Av. Rating                            20.0  79.4450   2.699020  69.50  78.525   \n",
       "\n",
       "                                       50%    75%   max  \n",
       "Wine Produced (million hectolitres)   7.70  13.30  54.8  \n",
       "Global Exports                        2.15   4.25  29.5  \n",
       "Av. Rating                           80.10  80.75  82.6  "
      ]
     },
     "metadata": {},
     "output_type": "display_data"
    },
    {
     "name": "stdout",
     "output_type": "stream",
     "text": [
      "------------------------------------------------------------\n"
     ]
    }
   ],
   "source": [
    "# Realizo la exploración inicial de los dataframes\n",
    "\n",
    "exploracion_inicial(df_vinos_caros, \"Vinos Caros\")\n",
    "print(\"-\"*60)\n",
    "exploracion_inicial(df_vinos_asequibles, \"Vinos Asequibles\")\n",
    "print(\"-\"*60)\n",
    "exploracion_inicial(df_productores, \"Mayores Productores de Vino Mundiales\")"
   ]
  },
  {
   "cell_type": "code",
   "execution_count": null,
   "id": "adec1c24",
   "metadata": {},
   "outputs": [],
   "source": [
    "# Eliminamos duplicados en el DataFrame de vinos caros\n",
    "df_vinos_caros.drop_duplicates(inplace=True)"
   ]
  },
  {
   "cell_type": "code",
   "execution_count": null,
   "id": "b063aa0a",
   "metadata": {},
   "outputs": [
    {
     "name": "stdout",
     "output_type": "stream",
     "text": [
      "Tenemos 2048 filas y 11 columnas\n",
      "------------------------------------------------------------\n",
      "A continuación se presenta la exploración inicial de : \n",
      "\n",
      " Vinos Caros \n",
      "\n",
      "------------------------------------------------------------\n",
      "Primeras 5 filas:\n",
      "------------------------------------------------------------\n"
     ]
    },
    {
     "data": {
      "application/vnd.microsoft.datawrangler.viewer.v0+json": {
       "columns": [
        {
         "name": "index",
         "rawType": "int64",
         "type": "integer"
        },
        {
         "name": "winery",
         "rawType": "object",
         "type": "string"
        },
        {
         "name": "wine",
         "rawType": "object",
         "type": "string"
        },
        {
         "name": "year",
         "rawType": "object",
         "type": "string"
        },
        {
         "name": "rating",
         "rawType": "float64",
         "type": "float"
        },
        {
         "name": "num_reviews",
         "rawType": "int64",
         "type": "integer"
        },
        {
         "name": "country",
         "rawType": "object",
         "type": "string"
        },
        {
         "name": "region",
         "rawType": "object",
         "type": "string"
        },
        {
         "name": "price",
         "rawType": "float64",
         "type": "float"
        },
        {
         "name": "type",
         "rawType": "object",
         "type": "string"
        },
        {
         "name": "body",
         "rawType": "float64",
         "type": "float"
        },
        {
         "name": "acidity",
         "rawType": "float64",
         "type": "float"
        }
       ],
       "ref": "7e3a317f-3d2b-4f73-bef7-b35fb7387e5e",
       "rows": [
        [
         "0",
         "Teso La Monja",
         "Tinto",
         "2013",
         "4.9",
         "58",
         "Espana",
         "Toro",
         "995.0",
         "Toro Red",
         "5.0",
         "3.0"
        ],
        [
         "1",
         "Artadi",
         "Vina El Pison",
         "2018",
         "4.9",
         "31",
         "Espana",
         "Vino de Espana",
         "313.5",
         "Tempranillo",
         "4.0",
         "2.0"
        ],
        [
         "2",
         "Vega Sicilia",
         "Unico",
         "2009",
         "4.8",
         "1793",
         "Espana",
         "Ribera del Duero",
         "324.95",
         "Ribera Del Duero Red",
         "5.0",
         "3.0"
        ],
        [
         "3",
         "Vega Sicilia",
         "Unico",
         "1999",
         "4.8",
         "1705",
         "Espana",
         "Ribera del Duero",
         "692.96",
         "Ribera Del Duero Red",
         "5.0",
         "3.0"
        ],
        [
         "4",
         "Vega Sicilia",
         "Unico",
         "1996",
         "4.8",
         "1309",
         "Espana",
         "Ribera del Duero",
         "778.06",
         "Ribera Del Duero Red",
         "5.0",
         "3.0"
        ]
       ],
       "shape": {
        "columns": 11,
        "rows": 5
       }
      },
      "text/html": [
       "<div>\n",
       "<style scoped>\n",
       "    .dataframe tbody tr th:only-of-type {\n",
       "        vertical-align: middle;\n",
       "    }\n",
       "\n",
       "    .dataframe tbody tr th {\n",
       "        vertical-align: top;\n",
       "    }\n",
       "\n",
       "    .dataframe thead th {\n",
       "        text-align: right;\n",
       "    }\n",
       "</style>\n",
       "<table border=\"1\" class=\"dataframe\">\n",
       "  <thead>\n",
       "    <tr style=\"text-align: right;\">\n",
       "      <th></th>\n",
       "      <th>winery</th>\n",
       "      <th>wine</th>\n",
       "      <th>year</th>\n",
       "      <th>rating</th>\n",
       "      <th>num_reviews</th>\n",
       "      <th>country</th>\n",
       "      <th>region</th>\n",
       "      <th>price</th>\n",
       "      <th>type</th>\n",
       "      <th>body</th>\n",
       "      <th>acidity</th>\n",
       "    </tr>\n",
       "  </thead>\n",
       "  <tbody>\n",
       "    <tr>\n",
       "      <th>0</th>\n",
       "      <td>Teso La Monja</td>\n",
       "      <td>Tinto</td>\n",
       "      <td>2013</td>\n",
       "      <td>4.9</td>\n",
       "      <td>58</td>\n",
       "      <td>Espana</td>\n",
       "      <td>Toro</td>\n",
       "      <td>995.00</td>\n",
       "      <td>Toro Red</td>\n",
       "      <td>5.0</td>\n",
       "      <td>3.0</td>\n",
       "    </tr>\n",
       "    <tr>\n",
       "      <th>1</th>\n",
       "      <td>Artadi</td>\n",
       "      <td>Vina El Pison</td>\n",
       "      <td>2018</td>\n",
       "      <td>4.9</td>\n",
       "      <td>31</td>\n",
       "      <td>Espana</td>\n",
       "      <td>Vino de Espana</td>\n",
       "      <td>313.50</td>\n",
       "      <td>Tempranillo</td>\n",
       "      <td>4.0</td>\n",
       "      <td>2.0</td>\n",
       "    </tr>\n",
       "    <tr>\n",
       "      <th>2</th>\n",
       "      <td>Vega Sicilia</td>\n",
       "      <td>Unico</td>\n",
       "      <td>2009</td>\n",
       "      <td>4.8</td>\n",
       "      <td>1793</td>\n",
       "      <td>Espana</td>\n",
       "      <td>Ribera del Duero</td>\n",
       "      <td>324.95</td>\n",
       "      <td>Ribera Del Duero Red</td>\n",
       "      <td>5.0</td>\n",
       "      <td>3.0</td>\n",
       "    </tr>\n",
       "    <tr>\n",
       "      <th>3</th>\n",
       "      <td>Vega Sicilia</td>\n",
       "      <td>Unico</td>\n",
       "      <td>1999</td>\n",
       "      <td>4.8</td>\n",
       "      <td>1705</td>\n",
       "      <td>Espana</td>\n",
       "      <td>Ribera del Duero</td>\n",
       "      <td>692.96</td>\n",
       "      <td>Ribera Del Duero Red</td>\n",
       "      <td>5.0</td>\n",
       "      <td>3.0</td>\n",
       "    </tr>\n",
       "    <tr>\n",
       "      <th>4</th>\n",
       "      <td>Vega Sicilia</td>\n",
       "      <td>Unico</td>\n",
       "      <td>1996</td>\n",
       "      <td>4.8</td>\n",
       "      <td>1309</td>\n",
       "      <td>Espana</td>\n",
       "      <td>Ribera del Duero</td>\n",
       "      <td>778.06</td>\n",
       "      <td>Ribera Del Duero Red</td>\n",
       "      <td>5.0</td>\n",
       "      <td>3.0</td>\n",
       "    </tr>\n",
       "  </tbody>\n",
       "</table>\n",
       "</div>"
      ],
      "text/plain": [
       "          winery           wine  year  rating  num_reviews country  \\\n",
       "0  Teso La Monja          Tinto  2013     4.9           58  Espana   \n",
       "1         Artadi  Vina El Pison  2018     4.9           31  Espana   \n",
       "2   Vega Sicilia          Unico  2009     4.8         1793  Espana   \n",
       "3   Vega Sicilia          Unico  1999     4.8         1705  Espana   \n",
       "4   Vega Sicilia          Unico  1996     4.8         1309  Espana   \n",
       "\n",
       "             region   price                  type  body  acidity  \n",
       "0              Toro  995.00              Toro Red   5.0      3.0  \n",
       "1    Vino de Espana  313.50           Tempranillo   4.0      2.0  \n",
       "2  Ribera del Duero  324.95  Ribera Del Duero Red   5.0      3.0  \n",
       "3  Ribera del Duero  692.96  Ribera Del Duero Red   5.0      3.0  \n",
       "4  Ribera del Duero  778.06  Ribera Del Duero Red   5.0      3.0  "
      ]
     },
     "metadata": {},
     "output_type": "display_data"
    },
    {
     "name": "stdout",
     "output_type": "stream",
     "text": [
      "------------------------------------------------------------\n",
      "Otras 5 filas aleatorias\n",
      "------------------------------------------------------------\n"
     ]
    },
    {
     "data": {
      "application/vnd.microsoft.datawrangler.viewer.v0+json": {
       "columns": [
        {
         "name": "index",
         "rawType": "int64",
         "type": "integer"
        },
        {
         "name": "winery",
         "rawType": "object",
         "type": "string"
        },
        {
         "name": "wine",
         "rawType": "object",
         "type": "string"
        },
        {
         "name": "year",
         "rawType": "object",
         "type": "string"
        },
        {
         "name": "rating",
         "rawType": "float64",
         "type": "float"
        },
        {
         "name": "num_reviews",
         "rawType": "int64",
         "type": "integer"
        },
        {
         "name": "country",
         "rawType": "object",
         "type": "string"
        },
        {
         "name": "region",
         "rawType": "object",
         "type": "string"
        },
        {
         "name": "price",
         "rawType": "float64",
         "type": "float"
        },
        {
         "name": "type",
         "rawType": "object",
         "type": "string"
        },
        {
         "name": "body",
         "rawType": "float64",
         "type": "float"
        },
        {
         "name": "acidity",
         "rawType": "float64",
         "type": "float"
        }
       ],
       "ref": "918bf815-14c4-4447-bb11-ec299708486f",
       "rows": [
        [
         "780",
         "Volver",
         "Triga",
         "2017",
         "4.4",
         "243",
         "Espana",
         "Alicante",
         "29.9",
         "Red",
         "4.0",
         "3.0"
        ],
        [
         "57",
         "Vega Sicilia",
         "Unico",
         "2003",
         "4.7",
         "2419",
         "Espana",
         "Ribera del Duero",
         "325.0",
         "Ribera Del Duero Red",
         "5.0",
         "3.0"
        ],
        [
         "1781",
         "Alvaro Domecq",
         "1730 Amontillado",
         "N.V.",
         "4.3",
         "29",
         "Espana",
         "Jerez Amontillado",
         "34.65",
         "Sherry",
         "4.0",
         "3.0"
        ],
        [
         "1953",
         "Recaredo",
         "Corpinnat Terrers Brut Nature",
         "2016",
         "4.2",
         "611",
         "Espana",
         "Cava",
         "21.8",
         "Cava",
         "2.0",
         "3.0"
        ],
        [
         "676",
         "Remirez de Ganuza",
         "Rioja Reserva",
         "2009",
         "4.4",
         "1172",
         "Espana",
         "Rioja",
         "74.0",
         "Rioja Red",
         "4.0",
         "3.0"
        ]
       ],
       "shape": {
        "columns": 11,
        "rows": 5
       }
      },
      "text/html": [
       "<div>\n",
       "<style scoped>\n",
       "    .dataframe tbody tr th:only-of-type {\n",
       "        vertical-align: middle;\n",
       "    }\n",
       "\n",
       "    .dataframe tbody tr th {\n",
       "        vertical-align: top;\n",
       "    }\n",
       "\n",
       "    .dataframe thead th {\n",
       "        text-align: right;\n",
       "    }\n",
       "</style>\n",
       "<table border=\"1\" class=\"dataframe\">\n",
       "  <thead>\n",
       "    <tr style=\"text-align: right;\">\n",
       "      <th></th>\n",
       "      <th>winery</th>\n",
       "      <th>wine</th>\n",
       "      <th>year</th>\n",
       "      <th>rating</th>\n",
       "      <th>num_reviews</th>\n",
       "      <th>country</th>\n",
       "      <th>region</th>\n",
       "      <th>price</th>\n",
       "      <th>type</th>\n",
       "      <th>body</th>\n",
       "      <th>acidity</th>\n",
       "    </tr>\n",
       "  </thead>\n",
       "  <tbody>\n",
       "    <tr>\n",
       "      <th>780</th>\n",
       "      <td>Volver</td>\n",
       "      <td>Triga</td>\n",
       "      <td>2017</td>\n",
       "      <td>4.4</td>\n",
       "      <td>243</td>\n",
       "      <td>Espana</td>\n",
       "      <td>Alicante</td>\n",
       "      <td>29.90</td>\n",
       "      <td>Red</td>\n",
       "      <td>4.0</td>\n",
       "      <td>3.0</td>\n",
       "    </tr>\n",
       "    <tr>\n",
       "      <th>57</th>\n",
       "      <td>Vega Sicilia</td>\n",
       "      <td>Unico</td>\n",
       "      <td>2003</td>\n",
       "      <td>4.7</td>\n",
       "      <td>2419</td>\n",
       "      <td>Espana</td>\n",
       "      <td>Ribera del Duero</td>\n",
       "      <td>325.00</td>\n",
       "      <td>Ribera Del Duero Red</td>\n",
       "      <td>5.0</td>\n",
       "      <td>3.0</td>\n",
       "    </tr>\n",
       "    <tr>\n",
       "      <th>1781</th>\n",
       "      <td>Alvaro Domecq</td>\n",
       "      <td>1730 Amontillado</td>\n",
       "      <td>N.V.</td>\n",
       "      <td>4.3</td>\n",
       "      <td>29</td>\n",
       "      <td>Espana</td>\n",
       "      <td>Jerez Amontillado</td>\n",
       "      <td>34.65</td>\n",
       "      <td>Sherry</td>\n",
       "      <td>4.0</td>\n",
       "      <td>3.0</td>\n",
       "    </tr>\n",
       "    <tr>\n",
       "      <th>1953</th>\n",
       "      <td>Recaredo</td>\n",
       "      <td>Corpinnat Terrers Brut Nature</td>\n",
       "      <td>2016</td>\n",
       "      <td>4.2</td>\n",
       "      <td>611</td>\n",
       "      <td>Espana</td>\n",
       "      <td>Cava</td>\n",
       "      <td>21.80</td>\n",
       "      <td>Cava</td>\n",
       "      <td>2.0</td>\n",
       "      <td>3.0</td>\n",
       "    </tr>\n",
       "    <tr>\n",
       "      <th>676</th>\n",
       "      <td>Remirez de Ganuza</td>\n",
       "      <td>Rioja Reserva</td>\n",
       "      <td>2009</td>\n",
       "      <td>4.4</td>\n",
       "      <td>1172</td>\n",
       "      <td>Espana</td>\n",
       "      <td>Rioja</td>\n",
       "      <td>74.00</td>\n",
       "      <td>Rioja Red</td>\n",
       "      <td>4.0</td>\n",
       "      <td>3.0</td>\n",
       "    </tr>\n",
       "  </tbody>\n",
       "</table>\n",
       "</div>"
      ],
      "text/plain": [
       "                 winery                           wine  year  rating  \\\n",
       "780              Volver                          Triga  2017     4.4   \n",
       "57         Vega Sicilia                          Unico  2003     4.7   \n",
       "1781      Alvaro Domecq               1730 Amontillado  N.V.     4.3   \n",
       "1953           Recaredo  Corpinnat Terrers Brut Nature  2016     4.2   \n",
       "676   Remirez de Ganuza                  Rioja Reserva  2009     4.4   \n",
       "\n",
       "      num_reviews country             region   price                  type  \\\n",
       "780           243  Espana           Alicante   29.90                   Red   \n",
       "57           2419  Espana   Ribera del Duero  325.00  Ribera Del Duero Red   \n",
       "1781           29  Espana  Jerez Amontillado   34.65                Sherry   \n",
       "1953          611  Espana               Cava   21.80                  Cava   \n",
       "676          1172  Espana              Rioja   74.00             Rioja Red   \n",
       "\n",
       "      body  acidity  \n",
       "780    4.0      3.0  \n",
       "57     5.0      3.0  \n",
       "1781   4.0      3.0  \n",
       "1953   2.0      3.0  \n",
       "676    4.0      3.0  "
      ]
     },
     "metadata": {},
     "output_type": "display_data"
    },
    {
     "name": "stdout",
     "output_type": "stream",
     "text": [
      "------------------------------------------------------------\n",
      "Exploración de duplicados:\n",
      "Existen 0 duplicados\n",
      "------------------------------------------------------------\n",
      "Revisión de nulos:\n",
      "Se encontraron 650 valores nulos en total. El desglose por columna es:\n",
      "year         2\n",
      "type       106\n",
      "body       271\n",
      "acidity    271\n",
      "dtype: int64\n",
      "------------------------------------------------------------\n",
      "Info sobre las columas de Vinos Caros:\n",
      "\n",
      "------------------------------------------------------------\n",
      "<class 'pandas.core.frame.DataFrame'>\n",
      "Index: 2048 entries, 0 to 6100\n",
      "Data columns (total 11 columns):\n",
      " #   Column       Non-Null Count  Dtype  \n",
      "---  ------       --------------  -----  \n",
      " 0   winery       2048 non-null   object \n",
      " 1   wine         2048 non-null   object \n",
      " 2   year         2046 non-null   object \n",
      " 3   rating       2048 non-null   float64\n",
      " 4   num_reviews  2048 non-null   int64  \n",
      " 5   country      2048 non-null   object \n",
      " 6   region       2048 non-null   object \n",
      " 7   price        2048 non-null   float64\n",
      " 8   type         1942 non-null   object \n",
      " 9   body         1777 non-null   float64\n",
      " 10  acidity      1777 non-null   float64\n",
      "dtypes: float64(4), int64(1), object(6)\n",
      "memory usage: 192.0+ KB\n",
      "------------------------------------------------------------\n",
      "Las medias estadísticas por fila son las siguientes:\n"
     ]
    },
    {
     "data": {
      "application/vnd.microsoft.datawrangler.viewer.v0+json": {
       "columns": [
        {
         "name": "index",
         "rawType": "object",
         "type": "string"
        },
        {
         "name": "count",
         "rawType": "float64",
         "type": "float"
        },
        {
         "name": "mean",
         "rawType": "float64",
         "type": "float"
        },
        {
         "name": "std",
         "rawType": "float64",
         "type": "float"
        },
        {
         "name": "min",
         "rawType": "float64",
         "type": "float"
        },
        {
         "name": "25%",
         "rawType": "float64",
         "type": "float"
        },
        {
         "name": "50%",
         "rawType": "float64",
         "type": "float"
        },
        {
         "name": "75%",
         "rawType": "float64",
         "type": "float"
        },
        {
         "name": "max",
         "rawType": "float64",
         "type": "float"
        }
       ],
       "ref": "45f86ba3-e985-4c8b-8852-52598e6b693d",
       "rows": [
        [
         "rating",
         "2048.0",
         "4.401123046875",
         "0.14702291875111997",
         "4.2",
         "4.3",
         "4.4",
         "4.5",
         "4.9"
        ],
        [
         "num_reviews",
         "2048.0",
         "573.99462890625",
         "1376.1531713517413",
         "25.0",
         "58.0",
         "141.0",
         "485.5",
         "32624.0"
        ],
        [
         "price",
         "2048.0",
         "135.24219435397728",
         "272.17831585824536",
         "4.99",
         "31.917947274626425",
         "53.625",
         "110.0",
         "3119.08"
        ],
        [
         "body",
         "1777.0",
         "4.258863252673044",
         "0.6528363720715546",
         "2.0",
         "4.0",
         "4.0",
         "5.0",
         "5.0"
        ],
        [
         "acidity",
         "1777.0",
         "2.9212155317951605",
         "0.33471294549920483",
         "1.0",
         "3.0",
         "3.0",
         "3.0",
         "3.0"
        ]
       ],
       "shape": {
        "columns": 8,
        "rows": 5
       }
      },
      "text/html": [
       "<div>\n",
       "<style scoped>\n",
       "    .dataframe tbody tr th:only-of-type {\n",
       "        vertical-align: middle;\n",
       "    }\n",
       "\n",
       "    .dataframe tbody tr th {\n",
       "        vertical-align: top;\n",
       "    }\n",
       "\n",
       "    .dataframe thead th {\n",
       "        text-align: right;\n",
       "    }\n",
       "</style>\n",
       "<table border=\"1\" class=\"dataframe\">\n",
       "  <thead>\n",
       "    <tr style=\"text-align: right;\">\n",
       "      <th></th>\n",
       "      <th>count</th>\n",
       "      <th>mean</th>\n",
       "      <th>std</th>\n",
       "      <th>min</th>\n",
       "      <th>25%</th>\n",
       "      <th>50%</th>\n",
       "      <th>75%</th>\n",
       "      <th>max</th>\n",
       "    </tr>\n",
       "  </thead>\n",
       "  <tbody>\n",
       "    <tr>\n",
       "      <th>rating</th>\n",
       "      <td>2048.0</td>\n",
       "      <td>4.401123</td>\n",
       "      <td>0.147023</td>\n",
       "      <td>4.20</td>\n",
       "      <td>4.300000</td>\n",
       "      <td>4.400</td>\n",
       "      <td>4.5</td>\n",
       "      <td>4.90</td>\n",
       "    </tr>\n",
       "    <tr>\n",
       "      <th>num_reviews</th>\n",
       "      <td>2048.0</td>\n",
       "      <td>573.994629</td>\n",
       "      <td>1376.153171</td>\n",
       "      <td>25.00</td>\n",
       "      <td>58.000000</td>\n",
       "      <td>141.000</td>\n",
       "      <td>485.5</td>\n",
       "      <td>32624.00</td>\n",
       "    </tr>\n",
       "    <tr>\n",
       "      <th>price</th>\n",
       "      <td>2048.0</td>\n",
       "      <td>135.242194</td>\n",
       "      <td>272.178316</td>\n",
       "      <td>4.99</td>\n",
       "      <td>31.917947</td>\n",
       "      <td>53.625</td>\n",
       "      <td>110.0</td>\n",
       "      <td>3119.08</td>\n",
       "    </tr>\n",
       "    <tr>\n",
       "      <th>body</th>\n",
       "      <td>1777.0</td>\n",
       "      <td>4.258863</td>\n",
       "      <td>0.652836</td>\n",
       "      <td>2.00</td>\n",
       "      <td>4.000000</td>\n",
       "      <td>4.000</td>\n",
       "      <td>5.0</td>\n",
       "      <td>5.00</td>\n",
       "    </tr>\n",
       "    <tr>\n",
       "      <th>acidity</th>\n",
       "      <td>1777.0</td>\n",
       "      <td>2.921216</td>\n",
       "      <td>0.334713</td>\n",
       "      <td>1.00</td>\n",
       "      <td>3.000000</td>\n",
       "      <td>3.000</td>\n",
       "      <td>3.0</td>\n",
       "      <td>3.00</td>\n",
       "    </tr>\n",
       "  </tbody>\n",
       "</table>\n",
       "</div>"
      ],
      "text/plain": [
       "              count        mean          std    min        25%      50%  \\\n",
       "rating       2048.0    4.401123     0.147023   4.20   4.300000    4.400   \n",
       "num_reviews  2048.0  573.994629  1376.153171  25.00  58.000000  141.000   \n",
       "price        2048.0  135.242194   272.178316   4.99  31.917947   53.625   \n",
       "body         1777.0    4.258863     0.652836   2.00   4.000000    4.000   \n",
       "acidity      1777.0    2.921216     0.334713   1.00   3.000000    3.000   \n",
       "\n",
       "               75%       max  \n",
       "rating         4.5      4.90  \n",
       "num_reviews  485.5  32624.00  \n",
       "price        110.0   3119.08  \n",
       "body           5.0      5.00  \n",
       "acidity        3.0      3.00  "
      ]
     },
     "metadata": {},
     "output_type": "display_data"
    },
    {
     "name": "stdout",
     "output_type": "stream",
     "text": [
      "------------------------------------------------------------\n"
     ]
    }
   ],
   "source": [
    "# Reviso nuevamente el DF de vinos caros tras eliminar duplicados\n",
    "exploracion_inicial(df_vinos_caros, \"Vinos Caros\")"
   ]
  },
  {
   "cell_type": "code",
   "execution_count": 8,
   "id": "1f94a8c5",
   "metadata": {},
   "outputs": [],
   "source": [
    "df_vinos_caros.to_csv('vinos_caros_limpio.csv', index=False, encoding='utf-8', sep=',')\n",
    "df_vinos_asequibles.to_csv('vinos_asequibles_limpio.csv', index=False, encoding='utf-8', sep=',')\n",
    "df_productores.to_csv('mayores_productores_vino_mundiales_limpio.csv', index=False, encoding='utf-8', sep=',')"
   ]
  }
 ],
 "metadata": {
  "kernelspec": {
   "display_name": "Python 3",
   "language": "python",
   "name": "python3"
  },
  "language_info": {
   "codemirror_mode": {
    "name": "ipython",
    "version": 3
   },
   "file_extension": ".py",
   "mimetype": "text/x-python",
   "name": "python",
   "nbconvert_exporter": "python",
   "pygments_lexer": "ipython3",
   "version": "3.13.2"
  }
 },
 "nbformat": 4,
 "nbformat_minor": 5
}
